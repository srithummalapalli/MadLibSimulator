#importing necessary files
import csv
#import pandas as pd

#mount Google Drive in Colab Environment
from google.colab import drive
drive.mount('/content/drive')

def read_template_list(file_path):
    templates_list = []
    with open(file_path, 'r') as file:
        csv_reader = csv.reader(file)
        for row_data in csv_reader:
          templates_list.append(row_data)
          #print(row_data)
    return templates_list

def read_blank_fills(file_path):
  blank_fills = []
  with open(file_path, 'r') as file:
    csv_reader = csv.reader(file)
    for row in csv_reader:
      blank_fills.append(row[0])
  return blank_fills

#Displays story-template choices to user
def display_choice(template_list):
  print("\nAvailable Story Templates:")
  i = 1
  for template in template_list:
    print(f"{i}. {template[0]}")
    i += 1

def read_story_template(file_path):
  with open(file_path, 'r') as file:
    story_template = file.read()
  return story_template

def valid_inputs(template_list, inputs):
  placeholder_count = template_text.count("{}")
  if len(inputs) != placeholder_count:
    # Return False and a message indicating the error
    return False
    f"Expected {placeholder_count} inputs, but got {len(inputs)}."
  else:
    # Return True if the inputs are valid, and an empty message
    # Return True if valid
    return True, "" 

def generate_story(story_template, inputs):
  try:
    story = story_template.format(*inputs)
    return story
  except IndexError as e:
    print(f"Error: {str(e)}")

# Set your Google Drive paths
template_list_csv_path = '/content/drive/My Drive/2025-HUM1500-Madlibs/StoryTemplates/template_list.csv'

# Load available templates
template_list = read_template_list(template_list_csv_path)
display_choice(template_list)

# Get user choice
choice = int(input("\nEnter the number of the template you want to use: ")) - 1
template_filename = template_list[choice][1]  # assuming 2nd column has the .txt filename
template_path = f'/content/drive/My Drive/2025-HUM1500-Madlibs/StoryTemplates/{template_filename}'

# Load template content
template_text = read_story_template(template_path)
print("\nYour selected story template:\n")
print(template_text)

# Get user input CSV
user_csv_path = input("\nPaste the full path to your blank_fills CSV file: ")
user_inputs = read_blank_fills(user_csv_path)

# Validate input
valid, msg = valid_inputs(template_text, user_inputs)
if not valid:
    print(f"Input Error: {msg}")
else:
    final_story = generate_story(template_text, user_inputs)
    print("\n Your Generated Story\n")
    print(final_story)
