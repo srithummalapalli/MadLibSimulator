{
  "nbformat": 4,
  "nbformat_minor": 0,
  "metadata": {
    "colab": {
      "provenance": [],
      "authorship_tag": "ABX9TyMvk2fLDXUvfF/47AUEy8PE",
      "include_colab_link": true
    },
    "kernelspec": {
      "name": "python3",
      "display_name": "Python 3"
    },
    "language_info": {
      "name": "python"
    }
  },
  "cells": [
    {
      "cell_type": "markdown",
      "metadata": {
        "id": "view-in-github",
        "colab_type": "text"
      },
      "source": [
        "<a href=\"https://colab.research.google.com/github/srithummalapalli/MadLibSimulator/blob/main/LastTransmission.ipynb\" target=\"_parent\"><img src=\"https://colab.research.google.com/assets/colab-badge.svg\" alt=\"Open In Colab\"/></a>"
      ]
    },
    {
      "cell_type": "code",
      "execution_count": 2,
      "metadata": {
        "id": "1Pspqx9Tq_-P",
        "colab": {
          "base_uri": "https://localhost:8080/"
        },
        "outputId": "a966524d-32aa-4965-8b07-1b6ff72722ef"
      },
      "outputs": [
        {
          "output_type": "stream",
          "name": "stdout",
          "text": [
            "🚀 Welcome to MISSION: SURVIVE MARS 🚀\n",
            "Astronaut, what's your name?Sri+Atif\n",
            "\n",
            "Good luck, Commandor Sri+Atif. You're our last hope ... \n"
          ]
        }
      ],
      "source": [
        "# Mars Survival Game\n",
        "print(\"🚀 Welcome to MISSION: SURVIVE MARS 🚀\")\n",
        "player_name = input(\"Astronaut, what's your name?\")\n",
        "print(f\"\\nGood luck, Commandor {player_name}. You're our last hope ... \")\n",
        "\n"
      ]
    },
    {
      "cell_type": "code",
      "source": [],
      "metadata": {
        "id": "ZFq7BYtBru3i"
      },
      "execution_count": null,
      "outputs": []
    }
  ]
}